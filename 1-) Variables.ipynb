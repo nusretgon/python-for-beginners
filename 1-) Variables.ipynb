{
 "cells": [
  {
   "cell_type": "markdown",
   "id": "0f8d3f27",
   "metadata": {},
   "source": [
    "## Int,float,boolean,String are basic variables in Python"
   ]
  },
  {
   "cell_type": "markdown",
   "id": "4089cabc",
   "metadata": {},
   "source": [
    "## We don't need to describe the data types in Python"
   ]
  },
  {
   "cell_type": "code",
   "execution_count": 3,
   "id": "0dfa2233",
   "metadata": {},
   "outputs": [
    {
     "data": {
      "text/plain": [
       "int"
      ]
     },
     "execution_count": 3,
     "metadata": {},
     "output_type": "execute_result"
    }
   ],
   "source": [
    "a=5\n",
    "b=10\n",
    "type(a)"
   ]
  },
  {
   "cell_type": "code",
   "execution_count": 4,
   "id": "0fcf2bec",
   "metadata": {},
   "outputs": [
    {
     "data": {
      "text/plain": [
       "15"
      ]
     },
     "execution_count": 4,
     "metadata": {},
     "output_type": "execute_result"
    }
   ],
   "source": [
    "a+b"
   ]
  },
  {
   "cell_type": "code",
   "execution_count": 18,
   "id": "5217b8af",
   "metadata": {},
   "outputs": [
    {
     "data": {
      "text/plain": [
       "float"
      ]
     },
     "execution_count": 18,
     "metadata": {},
     "output_type": "execute_result"
    }
   ],
   "source": [
    "pi=3.14\n",
    "type(pi)"
   ]
  },
  {
   "cell_type": "code",
   "execution_count": 19,
   "id": "ad1915f0",
   "metadata": {},
   "outputs": [
    {
     "data": {
      "text/plain": [
       "15.700000000000001"
      ]
     },
     "execution_count": 19,
     "metadata": {},
     "output_type": "execute_result"
    }
   ],
   "source": [
    "pi*a"
   ]
  },
  {
   "cell_type": "code",
   "execution_count": 20,
   "id": "e6b0740c",
   "metadata": {},
   "outputs": [
    {
     "data": {
      "text/plain": [
       "str"
      ]
     },
     "execution_count": 20,
     "metadata": {},
     "output_type": "execute_result"
    }
   ],
   "source": [
    "name=\"Nuusret\"\n",
    "type(name)"
   ]
  },
  {
   "cell_type": "code",
   "execution_count": 16,
   "id": "62b0a917",
   "metadata": {},
   "outputs": [
    {
     "data": {
      "text/plain": [
       "2"
      ]
     },
     "execution_count": 16,
     "metadata": {},
     "output_type": "execute_result"
    }
   ],
   "source": [
    "name.count(\"u\")    # We can access all of the methods of strings using . and Tab"
   ]
  },
  {
   "cell_type": "code",
   "execution_count": 21,
   "id": "f8372be9",
   "metadata": {},
   "outputs": [
    {
     "data": {
      "text/plain": [
       "'N'"
      ]
     },
     "execution_count": 21,
     "metadata": {},
     "output_type": "execute_result"
    }
   ],
   "source": [
    "name[0]            "
   ]
  },
  {
   "cell_type": "code",
   "execution_count": 24,
   "id": "a4f97e5d",
   "metadata": {},
   "outputs": [
    {
     "data": {
      "text/plain": [
       "'tersuuN'"
      ]
     },
     "execution_count": 24,
     "metadata": {},
     "output_type": "execute_result"
    }
   ],
   "source": [
    "reverseName=name[::-1]\n",
    "reverseName"
   ]
  },
  {
   "cell_type": "code",
   "execution_count": 30,
   "id": "88027d19",
   "metadata": {},
   "outputs": [],
   "source": [
    "halfName=name[:3]"
   ]
  },
  {
   "cell_type": "code",
   "execution_count": 31,
   "id": "584981bf",
   "metadata": {},
   "outputs": [
    {
     "data": {
      "text/plain": [
       "'Nuu'"
      ]
     },
     "execution_count": 31,
     "metadata": {},
     "output_type": "execute_result"
    }
   ],
   "source": [
    "halfName"
   ]
  },
  {
   "cell_type": "code",
   "execution_count": 36,
   "id": "4ffb3014",
   "metadata": {},
   "outputs": [
    {
     "data": {
      "text/plain": [
       "bool"
      ]
     },
     "execution_count": 36,
     "metadata": {},
     "output_type": "execute_result"
    }
   ],
   "source": [
    "isTrue=False   # We can use boolean type in for loop and if statements. We can talk with these two.\n",
    "type(isTrue)"
   ]
  },
  {
   "cell_type": "code",
   "execution_count": 37,
   "id": "18fda756",
   "metadata": {},
   "outputs": [
    {
     "data": {
      "text/plain": [
       "False"
      ]
     },
     "execution_count": 37,
     "metadata": {},
     "output_type": "execute_result"
    }
   ],
   "source": [
    "isTrue"
   ]
  }
 ],
 "metadata": {
  "kernelspec": {
   "display_name": "Python 3 (ipykernel)",
   "language": "python",
   "name": "python3"
  },
  "language_info": {
   "codemirror_mode": {
    "name": "ipython",
    "version": 3
   },
   "file_extension": ".py",
   "mimetype": "text/x-python",
   "name": "python",
   "nbconvert_exporter": "python",
   "pygments_lexer": "ipython3",
   "version": "3.9.7"
  }
 },
 "nbformat": 4,
 "nbformat_minor": 5
}
