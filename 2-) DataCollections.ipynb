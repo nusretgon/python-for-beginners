{
 "cells": [
  {
   "cell_type": "markdown",
   "id": "2d9530aa",
   "metadata": {},
   "source": [
    "## There are different type of data collections in Python."
   ]
  },
  {
   "cell_type": "markdown",
   "id": "c5d0518f",
   "metadata": {},
   "source": [
    "## They have different features. You can select one of them for your purpose."
   ]
  },
  {
   "cell_type": "markdown",
   "id": "b4e5787f",
   "metadata": {},
   "source": [
    "## LISTS "
   ]
  },
  {
   "cell_type": "code",
   "execution_count": 53,
   "id": "86cff41e",
   "metadata": {},
   "outputs": [
    {
     "data": {
      "text/plain": [
       "15"
      ]
     },
     "execution_count": 53,
     "metadata": {},
     "output_type": "execute_result"
    }
   ],
   "source": [
    "myList=[0,1,2,3,4,5,6,7,8,8,9]  \n",
    "myList[1]=15    # Indexing and Mutable\n",
    "myList[1]"
   ]
  },
  {
   "cell_type": "code",
   "execution_count": 54,
   "id": "7c0703f3",
   "metadata": {},
   "outputs": [
    {
     "data": {
      "text/plain": [
       "[0, 15, 2, 3, 4, 5, 6, 7, 8, 8, 9]"
      ]
     },
     "execution_count": 54,
     "metadata": {},
     "output_type": "execute_result"
    }
   ],
   "source": [
    "myList     # Ordered"
   ]
  },
  {
   "cell_type": "markdown",
   "id": "392d1230",
   "metadata": {},
   "source": [
    "## Dictionaries have keys and values. If you want to pair some variables you can use."
   ]
  },
  {
   "cell_type": "code",
   "execution_count": 46,
   "id": "9f14c0b4",
   "metadata": {
    "scrolled": true
   },
   "outputs": [
    {
     "data": {
      "text/plain": [
       "dict_items([('apple', 15), ('melon', 50)])"
      ]
     },
     "execution_count": 46,
     "metadata": {},
     "output_type": "execute_result"
    }
   ],
   "source": [
    "myDictionary={\"apple\":15,\"melon\":50}\n",
    "\n",
    "myDictionary.items()\n"
   ]
  },
  {
   "cell_type": "code",
   "execution_count": 47,
   "id": "320f88de",
   "metadata": {},
   "outputs": [
    {
     "data": {
      "text/plain": [
       "dict_keys(['apple', 'melon'])"
      ]
     },
     "execution_count": 47,
     "metadata": {},
     "output_type": "execute_result"
    }
   ],
   "source": [
    "myDictionary.keys()"
   ]
  },
  {
   "cell_type": "code",
   "execution_count": 48,
   "id": "64f0082a",
   "metadata": {},
   "outputs": [
    {
     "data": {
      "text/plain": [
       "dict_values([15, 50])"
      ]
     },
     "execution_count": 48,
     "metadata": {},
     "output_type": "execute_result"
    }
   ],
   "source": [
    "myDictionary.values()"
   ]
  },
  {
   "cell_type": "code",
   "execution_count": 49,
   "id": "b98f85d5",
   "metadata": {},
   "outputs": [
    {
     "data": {
      "text/plain": [
       "15"
      ]
     },
     "execution_count": 49,
     "metadata": {},
     "output_type": "execute_result"
    }
   ],
   "source": [
    "myDictionary[\"apple\"]   # Indexing"
   ]
  },
  {
   "cell_type": "code",
   "execution_count": 50,
   "id": "92516145",
   "metadata": {},
   "outputs": [
    {
     "data": {
      "text/plain": [
       "200"
      ]
     },
     "execution_count": 50,
     "metadata": {},
     "output_type": "execute_result"
    }
   ],
   "source": [
    "myDictionary[\"apple\"]=200  #Mutable\n",
    "myDictionary[\"apple\"]"
   ]
  },
  {
   "cell_type": "markdown",
   "id": "e15d3608",
   "metadata": {},
   "source": [
    "## Tuple. Immutable."
   ]
  },
  {
   "cell_type": "code",
   "execution_count": 55,
   "id": "efaf9e72",
   "metadata": {},
   "outputs": [],
   "source": [
    "myTuple=(1,2,3,4,5,6)     "
   ]
  },
  {
   "cell_type": "code",
   "execution_count": 56,
   "id": "9f0b4395",
   "metadata": {},
   "outputs": [
    {
     "data": {
      "text/plain": [
       "(1, 2, 3, 4, 5, 6)"
      ]
     },
     "execution_count": 56,
     "metadata": {},
     "output_type": "execute_result"
    }
   ],
   "source": [
    "myTuple"
   ]
  },
  {
   "cell_type": "markdown",
   "id": "6c4e78a8",
   "metadata": {},
   "source": [
    "## Sets are unordered,immutable,non-indexing and non-duplicate."
   ]
  },
  {
   "cell_type": "code",
   "execution_count": 57,
   "id": "1d0669dd",
   "metadata": {},
   "outputs": [
    {
     "name": "stdout",
     "output_type": "stream",
     "text": [
      "<class 'set'>\n"
     ]
    },
    {
     "data": {
      "text/plain": [
       "{0, 1, 2, 3, 4, 5, 6}"
      ]
     },
     "execution_count": 57,
     "metadata": {},
     "output_type": "execute_result"
    }
   ],
   "source": [
    "qmyList1=[0,1,2,2,2,2,2,3,4,5,6]\n",
    "set1=set (myList1)\n",
    "print (type(set1))\n",
    "set1"
   ]
  }
 ],
 "metadata": {
  "kernelspec": {
   "display_name": "Python 3 (ipykernel)",
   "language": "python",
   "name": "python3"
  },
  "language_info": {
   "codemirror_mode": {
    "name": "ipython",
    "version": 3
   },
   "file_extension": ".py",
   "mimetype": "text/x-python",
   "name": "python",
   "nbconvert_exporter": "python",
   "pygments_lexer": "ipython3",
   "version": "3.9.7"
  }
 },
 "nbformat": 4,
 "nbformat_minor": 5
}
