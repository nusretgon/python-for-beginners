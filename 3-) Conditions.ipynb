{
 "cells": [
  {
   "cell_type": "markdown",
   "id": "b5e91ffc",
   "metadata": {},
   "source": [
    "## Conditions are very important for algorithms. You can control your program flow."
   ]
  },
  {
   "cell_type": "code",
   "execution_count": 7,
   "id": "5a3f334e",
   "metadata": {},
   "outputs": [
    {
     "name": "stdout",
     "output_type": "stream",
     "text": [
      "51 is not smaller than 50\n"
     ]
    }
   ],
   "source": [
    "a=51\n",
    "if (a<50):\n",
    "    print(str(a)+\" is smaller than 50\") # You can write two way. Your choice.\n",
    "else:\n",
    "    print(a,\"is not smaller than 50\")    \n"
   ]
  },
  {
   "cell_type": "code",
   "execution_count": 8,
   "id": "6207f7d8",
   "metadata": {},
   "outputs": [
    {
     "name": "stdout",
     "output_type": "stream",
     "text": [
      "40 is smaller than 50\n"
     ]
    }
   ],
   "source": [
    "b=40\n",
    "if (b<50):\n",
    "    print(str(b)+\" is smaller than 50\")\n",
    "else:\n",
    "    print(b,\"is not smaller than 50\")    "
   ]
  },
  {
   "cell_type": "code",
   "execution_count": 15,
   "id": "1614132f",
   "metadata": {},
   "outputs": [
    {
     "name": "stdout",
     "output_type": "stream",
     "text": [
      "You passed but be careful\n"
     ]
    }
   ],
   "source": [
    "c=60\n",
    "if (c>80):\n",
    "    print(\"You passed\")\n",
    "elif (80>c>50):\n",
    "    print(\"You passed but be careful.\")       # elif keyword is provide us \n",
    "else:\n",
    "    print(\"You failed\")"
   ]
  },
  {
   "cell_type": "code",
   "execution_count": null,
   "id": "6b6e400d",
   "metadata": {},
   "outputs": [],
   "source": []
  }
 ],
 "metadata": {
  "kernelspec": {
   "display_name": "Python 3 (ipykernel)",
   "language": "python",
   "name": "python3"
  },
  "language_info": {
   "codemirror_mode": {
    "name": "ipython",
    "version": 3
   },
   "file_extension": ".py",
   "mimetype": "text/x-python",
   "name": "python",
   "nbconvert_exporter": "python",
   "pygments_lexer": "ipython3",
   "version": "3.9.7"
  }
 },
 "nbformat": 4,
 "nbformat_minor": 5
}
