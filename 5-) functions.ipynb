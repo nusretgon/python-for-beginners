{
 "cells": [
  {
   "cell_type": "markdown",
   "id": "431ddedd",
   "metadata": {},
   "source": [
    "## Functions"
   ]
  },
  {
   "cell_type": "code",
   "execution_count": 1,
   "id": "d5720602",
   "metadata": {},
   "outputs": [],
   "source": [
    "# If we want to create function we use def keyword"
   ]
  },
  {
   "cell_type": "code",
   "execution_count": 18,
   "id": "a14a3334",
   "metadata": {},
   "outputs": [],
   "source": [
    "def add1(number1,number2):\n",
    "    return number1+number2"
   ]
  },
  {
   "cell_type": "code",
   "execution_count": 31,
   "id": "7886b1cb",
   "metadata": {},
   "outputs": [],
   "source": [
    "def swap(num1,num2):\n",
    "    temp=num1\n",
    "    num1=num2\n",
    "    num2=temp\n",
    "    return num1,num2"
   ]
  },
  {
   "cell_type": "code",
   "execution_count": 32,
   "id": "870efc52",
   "metadata": {},
   "outputs": [],
   "source": [
    "def isPalindrome(name):\n",
    "    return name==name[::-1]"
   ]
  },
  {
   "cell_type": "code",
   "execution_count": 34,
   "id": "8ef0a842",
   "metadata": {},
   "outputs": [
    {
     "name": "stdout",
     "output_type": "stream",
     "text": [
      "Number 1 : 10 Number 2: 20\n",
      "Number 1: 20 Number 2: 10\n",
      "The sum of numbers = 30\n"
     ]
    },
    {
     "data": {
      "text/plain": [
       "False"
      ]
     },
     "execution_count": 34,
     "metadata": {},
     "output_type": "execute_result"
    }
   ],
   "source": [
    "number1=10\n",
    "number2=20\n",
    "print(\"Number 1 :\",number1,\"Number 2:\",number2)\n",
    "number1,number2=swap(number1,number2)\n",
    "print(\"Number 1:\",number1,\"Number 2:\",number2)\n",
    "\n",
    "sum1=add1(number1,number2)\n",
    "print(f\"The sum of numbers = {sum1}\")\n",
    "\n",
    "myName=\"Nusret\"\n",
    "isPalindrome(myName) "
   ]
  },
  {
   "cell_type": "code",
   "execution_count": 38,
   "id": "54c4eac7",
   "metadata": {},
   "outputs": [
    {
     "name": "stdout",
     "output_type": "stream",
     "text": [
      "Hello World\n"
     ]
    },
    {
     "data": {
      "text/plain": [
       "9"
      ]
     },
     "execution_count": 38,
     "metadata": {},
     "output_type": "execute_result"
    }
   ],
   "source": [
    "# We have also system function. For example\n",
    "print(\"Hello World\")\n",
    "\n",
    "type(number1)\n",
    "\n",
    "numbers=[1,2,3,4,5,6,7,8,9]\n",
    "\n",
    "len(numbers)"
   ]
  },
  {
   "cell_type": "code",
   "execution_count": null,
   "id": "fa480750",
   "metadata": {},
   "outputs": [],
   "source": []
  }
 ],
 "metadata": {
  "kernelspec": {
   "display_name": "Python 3 (ipykernel)",
   "language": "python",
   "name": "python3"
  },
  "language_info": {
   "codemirror_mode": {
    "name": "ipython",
    "version": 3
   },
   "file_extension": ".py",
   "mimetype": "text/x-python",
   "name": "python",
   "nbconvert_exporter": "python",
   "pygments_lexer": "ipython3",
   "version": "3.9.7"
  }
 },
 "nbformat": 4,
 "nbformat_minor": 5
}
