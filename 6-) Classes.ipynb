{
 "cells": [
  {
   "cell_type": "code",
   "execution_count": 20,
   "id": "ffbdf9a6",
   "metadata": {},
   "outputs": [],
   "source": [
    "class Student():\n",
    "    \n",
    "    def __init__(self,name,surname,age):\n",
    "        print(\"You created a student.\")\n",
    "        self.name=name\n",
    "        self.surname=surname\n",
    "        self.age=age\n",
    "    def myJob(self):\n",
    "        print(f\"Hello,my name is {self.name} and I am a student.\")\n",
    "        \n",
    "    def returnMyAge(self):\n",
    "        return self.age\n",
    "\n",
    "    "
   ]
  },
  {
   "cell_type": "code",
   "execution_count": 21,
   "id": "06e98479",
   "metadata": {},
   "outputs": [
    {
     "name": "stdout",
     "output_type": "stream",
     "text": [
      "You created a student.\n"
     ]
    }
   ],
   "source": [
    "nusret=Student(\"Nusret\",\"Gön\",22)"
   ]
  },
  {
   "cell_type": "code",
   "execution_count": 22,
   "id": "cc78a363",
   "metadata": {},
   "outputs": [
    {
     "name": "stdout",
     "output_type": "stream",
     "text": [
      "Hello,my name is Nusret and I am a student.\n"
     ]
    }
   ],
   "source": [
    "nusret.myJob()"
   ]
  },
  {
   "cell_type": "code",
   "execution_count": 23,
   "id": "a9943a58",
   "metadata": {},
   "outputs": [
    {
     "data": {
      "text/plain": [
       "22"
      ]
     },
     "execution_count": 23,
     "metadata": {},
     "output_type": "execute_result"
    }
   ],
   "source": [
    "nusret.returnMyAge()"
   ]
  },
  {
   "cell_type": "code",
   "execution_count": 30,
   "id": "df1f5c41",
   "metadata": {},
   "outputs": [],
   "source": [
    "class underGraduate(Student):\n",
    "    def __init__(self,name,surname,age):\n",
    "        Student.__init__(self,name,surname,age)\n",
    "        print(\"I am a undergraduate student.\")\n",
    "        self.name=name\n",
    "        self.surname=surname\n",
    "        self.age=age\n",
    "    "
   ]
  },
  {
   "cell_type": "code",
   "execution_count": 32,
   "id": "49464a04",
   "metadata": {},
   "outputs": [
    {
     "name": "stdout",
     "output_type": "stream",
     "text": [
      "You created a student.\n",
      "I am a undergraduate student.\n"
     ]
    }
   ],
   "source": [
    "melike=underGraduate(\"Melike\",\"Gön\",21)"
   ]
  },
  {
   "cell_type": "code",
   "execution_count": null,
   "id": "6307b5c2",
   "metadata": {},
   "outputs": [],
   "source": []
  }
 ],
 "metadata": {
  "kernelspec": {
   "display_name": "Python 3 (ipykernel)",
   "language": "python",
   "name": "python3"
  },
  "language_info": {
   "codemirror_mode": {
    "name": "ipython",
    "version": 3
   },
   "file_extension": ".py",
   "mimetype": "text/x-python",
   "name": "python",
   "nbconvert_exporter": "python",
   "pygments_lexer": "ipython3",
   "version": "3.9.7"
  }
 },
 "nbformat": 4,
 "nbformat_minor": 5
}
