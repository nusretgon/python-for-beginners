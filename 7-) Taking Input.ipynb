{
 "cells": [
  {
   "cell_type": "code",
   "execution_count": 2,
   "id": "c2c1a68d",
   "metadata": {},
   "outputs": [
    {
     "name": "stdout",
     "output_type": "stream",
     "text": [
      "Enter your name: Nusret\n"
     ]
    }
   ],
   "source": [
    "name=input(\"Enter your name: \")  # When we use input() function we get string value.\n"
   ]
  },
  {
   "cell_type": "code",
   "execution_count": 3,
   "id": "692f1c4d",
   "metadata": {},
   "outputs": [
    {
     "name": "stdout",
     "output_type": "stream",
     "text": [
      "Enter your ID:17\n"
     ]
    }
   ],
   "source": [
    "idNumber=int(input(\"Enter your ID:\")) # We need cast string value to integer.\n"
   ]
  },
  {
   "cell_type": "code",
   "execution_count": 4,
   "id": "6b381214",
   "metadata": {},
   "outputs": [
    {
     "name": "stdout",
     "output_type": "stream",
     "text": [
      "Nusret:17\n"
     ]
    }
   ],
   "source": [
    "print(f\"{name}:{idNumber}\")  # We can print anything like that."
   ]
  },
  {
   "cell_type": "code",
   "execution_count": 9,
   "id": "504697d9",
   "metadata": {},
   "outputs": [
    {
     "name": "stdout",
     "output_type": "stream",
     "text": [
      "Enter number:1\n",
      "Enter number:2\n",
      "Enter number:3\n",
      "Enter number:-1\n",
      "6\n"
     ]
    }
   ],
   "source": [
    "sum1=0\n",
    "number=0\n",
    "while(True):\n",
    "    number=int(input(\"Enter number:\"))\n",
    "    if number==-1:\n",
    "        break\n",
    "    sum1+=number\n",
    "print(sum1)"
   ]
  },
  {
   "cell_type": "code",
   "execution_count": null,
   "id": "b5fd43b9",
   "metadata": {},
   "outputs": [],
   "source": []
  }
 ],
 "metadata": {
  "kernelspec": {
   "display_name": "Python 3 (ipykernel)",
   "language": "python",
   "name": "python3"
  },
  "language_info": {
   "codemirror_mode": {
    "name": "ipython",
    "version": 3
   },
   "file_extension": ".py",
   "mimetype": "text/x-python",
   "name": "python",
   "nbconvert_exporter": "python",
   "pygments_lexer": "ipython3",
   "version": "3.9.7"
  }
 },
 "nbformat": 4,
 "nbformat_minor": 5
}
