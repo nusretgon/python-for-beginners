{
 "cells": [
  {
   "cell_type": "code",
   "execution_count": 37,
   "id": "2372b53c",
   "metadata": {},
   "outputs": [],
   "source": [
    "file=open(\"text.txt\",\"r\")\n"
   ]
  },
  {
   "cell_type": "code",
   "execution_count": 38,
   "id": "59f0ecc6",
   "metadata": {},
   "outputs": [],
   "source": [
    "text=file.readlines()"
   ]
  },
  {
   "cell_type": "code",
   "execution_count": 39,
   "id": "a3de92c2",
   "metadata": {},
   "outputs": [
    {
     "data": {
      "text/plain": [
       "['nusret gon program cast task\\n', 'nusre program\\n', 'anything gon\\n']"
      ]
     },
     "execution_count": 39,
     "metadata": {},
     "output_type": "execute_result"
    }
   ],
   "source": [
    "text"
   ]
  },
  {
   "cell_type": "code",
   "execution_count": 52,
   "id": "9ea2ff17",
   "metadata": {},
   "outputs": [],
   "source": [
    "file1=open(\"text.txt\",\"r\")"
   ]
  },
  {
   "cell_type": "code",
   "execution_count": 53,
   "id": "a341f187",
   "metadata": {},
   "outputs": [],
   "source": [
    "text1=file1.read()"
   ]
  },
  {
   "cell_type": "code",
   "execution_count": 54,
   "id": "93755d1a",
   "metadata": {},
   "outputs": [
    {
     "data": {
      "text/plain": [
       "'nusret gon program cast task\\nnusre program\\nanything gon\\n'"
      ]
     },
     "execution_count": 54,
     "metadata": {},
     "output_type": "execute_result"
    }
   ],
   "source": [
    "text1"
   ]
  },
  {
   "cell_type": "code",
   "execution_count": 55,
   "id": "ca8180bc",
   "metadata": {},
   "outputs": [],
   "source": [
    "file2=open(\"text.txt\",\"r\")"
   ]
  },
  {
   "cell_type": "code",
   "execution_count": 56,
   "id": "04512c4b",
   "metadata": {},
   "outputs": [],
   "source": [
    "text2=file2.readline()"
   ]
  },
  {
   "cell_type": "code",
   "execution_count": 57,
   "id": "26fc8c92",
   "metadata": {},
   "outputs": [
    {
     "data": {
      "text/plain": [
       "'nusret gon program cast task\\n'"
      ]
     },
     "execution_count": 57,
     "metadata": {},
     "output_type": "execute_result"
    }
   ],
   "source": [
    "text2"
   ]
  },
  {
   "cell_type": "code",
   "execution_count": 58,
   "id": "79b1b211",
   "metadata": {},
   "outputs": [],
   "source": [
    "file.close()\n",
    "file1.close()\n",
    "file2.close()"
   ]
  },
  {
   "cell_type": "markdown",
   "id": "9a16f9f0",
   "metadata": {},
   "source": [
    "## We append using method a"
   ]
  },
  {
   "cell_type": "code",
   "execution_count": 68,
   "id": "99d6b481",
   "metadata": {},
   "outputs": [
    {
     "data": {
      "text/plain": [
       "6"
      ]
     },
     "execution_count": 68,
     "metadata": {},
     "output_type": "execute_result"
    }
   ],
   "source": [
    "f=open(\"text.txt\",\"a\")\n",
    "f.write(\"Nusret\")\n",
    "f.close()"
   ]
  },
  {
   "cell_type": "markdown",
   "id": "08dde576",
   "metadata": {},
   "source": [
    "## We create new file or if this file exists delete all content and write while using method w"
   ]
  },
  {
   "cell_type": "code",
   "execution_count": 72,
   "id": "ab636c87",
   "metadata": {},
   "outputs": [],
   "source": [
    "f = open(\"newfile.txt\", \"w\")\n",
    "f.write(\"New file created and add.\")\n",
    "f.close()"
   ]
  },
  {
   "cell_type": "code",
   "execution_count": 76,
   "id": "ec39fc0b",
   "metadata": {},
   "outputs": [],
   "source": [
    "file=open(\"newfile.txt\",\"r\")\n",
    "text1=file.read()\n",
    "file.close()"
   ]
  },
  {
   "cell_type": "code",
   "execution_count": 77,
   "id": "1645b21e",
   "metadata": {},
   "outputs": [
    {
     "data": {
      "text/plain": [
       "'New file created and add.'"
      ]
     },
     "execution_count": 77,
     "metadata": {},
     "output_type": "execute_result"
    }
   ],
   "source": [
    "text1"
   ]
  },
  {
   "cell_type": "code",
   "execution_count": null,
   "id": "ccd463df",
   "metadata": {},
   "outputs": [],
   "source": []
  }
 ],
 "metadata": {
  "kernelspec": {
   "display_name": "Python 3 (ipykernel)",
   "language": "python",
   "name": "python3"
  },
  "language_info": {
   "codemirror_mode": {
    "name": "ipython",
    "version": 3
   },
   "file_extension": ".py",
   "mimetype": "text/x-python",
   "name": "python",
   "nbconvert_exporter": "python",
   "pygments_lexer": "ipython3",
   "version": "3.9.7"
  }
 },
 "nbformat": 4,
 "nbformat_minor": 5
}
