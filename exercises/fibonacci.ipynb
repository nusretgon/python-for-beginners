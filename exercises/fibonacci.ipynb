{
 "cells": [
  {
   "cell_type": "code",
   "execution_count": 13,
   "id": "5c485c7b",
   "metadata": {},
   "outputs": [
    {
     "name": "stdout",
     "output_type": "stream",
     "text": [
      "This program lists the Fibonacci sequence.\n",
      "Max value? 70\n",
      "0, 1, 1, 2, 3, 5, 8, 13, 21, 34, 55"
     ]
    }
   ],
   "source": [
    "print(\"This program lists the Fibonacci sequence.\")\n",
    "maxValue=int(input(\"Max value? \"))\n",
    "\n",
    "\n",
    "number1=0\n",
    "number2=1\n",
    "ih=0\n",
    "print(str(number1)+\",\",end=\"\")\n",
    "print(\" \"+str(number2),end=\"\")\n",
    "while ih<maxValue:\n",
    "    ih=number2+number1\n",
    "    number1=number2\n",
    "    number2=ih\n",
    "    if ih<=maxValue:\n",
    "        print(\", \"+str(ih),end=\"\")\n"
   ]
  }
 ],
 "metadata": {
  "kernelspec": {
   "display_name": "Python 3 (ipykernel)",
   "language": "python",
   "name": "python3"
  },
  "language_info": {
   "codemirror_mode": {
    "name": "ipython",
    "version": 3
   },
   "file_extension": ".py",
   "mimetype": "text/x-python",
   "name": "python",
   "nbconvert_exporter": "python",
   "pygments_lexer": "ipython3",
   "version": "3.9.7"
  }
 },
 "nbformat": 4,
 "nbformat_minor": 5
}
