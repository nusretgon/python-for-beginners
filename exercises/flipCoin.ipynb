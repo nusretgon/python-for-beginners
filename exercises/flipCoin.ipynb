{
 "cells": [
  {
   "cell_type": "markdown",
   "id": "b1ced2b6",
   "metadata": {},
   "source": [
    "# Write a function named flip_coin_three_heads that repeatedly flips a coin until three heads in a row are seen. You should use a Random object to give an equal chance to a head or a tail appearing. Each time the coin is flipped, what is seen is displayed (H for heads, T for tails). When 3 heads in a row are flipped a congratulatory message is printed. Here is a possible output of a call to your function:"
   ]
  },
  {
   "cell_type": "code",
   "execution_count": 1,
   "id": "522d5d34",
   "metadata": {},
   "outputs": [],
   "source": [
    "def flip_coin_three_heads():\n",
    "    heads=0\n",
    "    while heads<3:\n",
    "        a=random.randint(0,1)\n",
    "        if a==0:\n",
    "            print(\"H\",end=\" \")\n",
    "            heads+=1\n",
    "        else:\n",
    "            print(\"T\",end=\" \")\n",
    "            heads=0\n",
    "    print(\"\\nThree heads in a row!\")"
   ]
  },
  {
   "cell_type": "code",
   "execution_count": null,
   "id": "5e4b377d",
   "metadata": {},
   "outputs": [],
   "source": []
  }
 ],
 "metadata": {
  "kernelspec": {
   "display_name": "Python 3 (ipykernel)",
   "language": "python",
   "name": "python3"
  },
  "language_info": {
   "codemirror_mode": {
    "name": "ipython",
    "version": 3
   },
   "file_extension": ".py",
   "mimetype": "text/x-python",
   "name": "python",
   "nbconvert_exporter": "python",
   "pygments_lexer": "ipython3",
   "version": "3.9.7"
  }
 },
 "nbformat": 4,
 "nbformat_minor": 5
}
