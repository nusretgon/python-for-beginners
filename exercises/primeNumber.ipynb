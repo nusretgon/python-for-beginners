{
 "cells": [
  {
   "cell_type": "code",
   "execution_count": 24,
   "id": "1208816b",
   "metadata": {},
   "outputs": [
    {
     "name": "stdout",
     "output_type": "stream",
     "text": [
      "Enter your number:15\n",
      "15 is not prime\n"
     ]
    }
   ],
   "source": [
    "number=int(input(\"Enter your number:\"))\n",
    "primeB=True\n",
    "\n",
    "for j in range(2,number):\n",
    "    if number%j==0:\n",
    "        primeB=False\n",
    "if primeB==True :\n",
    "    print(f\"{number} is prime.\")\n",
    "else:\n",
    "    print(f\"{number} is not prime\")"
   ]
  },
  {
   "cell_type": "code",
   "execution_count": 19,
   "id": "f15d9b0d",
   "metadata": {},
   "outputs": [],
   "source": [
    "def isPrime(number):\n",
    "    isPrime=True\n",
    "    for j in range(2,number):\n",
    "        if number%j==0:\n",
    "            isPrime=False\n",
    "    return isPrime"
   ]
  },
  {
   "cell_type": "code",
   "execution_count": 23,
   "id": "d40b8a31",
   "metadata": {},
   "outputs": [
    {
     "data": {
      "text/plain": [
       "True"
      ]
     },
     "execution_count": 23,
     "metadata": {},
     "output_type": "execute_result"
    }
   ],
   "source": [
    "isPrime(13)"
   ]
  },
  {
   "cell_type": "markdown",
   "id": "4f1e9125",
   "metadata": {},
   "source": [
    "## Print 2- number prime"
   ]
  },
  {
   "cell_type": "code",
   "execution_count": 26,
   "id": "34c7cd00",
   "metadata": {},
   "outputs": [
    {
     "name": "stdout",
     "output_type": "stream",
     "text": [
      "Enter number:19\n",
      "2\n",
      "3\n",
      "5\n",
      "7\n",
      "11\n",
      "13\n",
      "17\n"
     ]
    }
   ],
   "source": [
    "number1=int(input(\"Enter number:\"))\n",
    "for i in range(2,number1):\n",
    "    if isPrime(i):\n",
    "        print(i)"
   ]
  },
  {
   "cell_type": "code",
   "execution_count": null,
   "id": "7b98fec8",
   "metadata": {},
   "outputs": [],
   "source": []
  }
 ],
 "metadata": {
  "kernelspec": {
   "display_name": "Python 3 (ipykernel)",
   "language": "python",
   "name": "python3"
  },
  "language_info": {
   "codemirror_mode": {
    "name": "ipython",
    "version": 3
   },
   "file_extension": ".py",
   "mimetype": "text/x-python",
   "name": "python",
   "nbconvert_exporter": "python",
   "pygments_lexer": "ipython3",
   "version": "3.9.7"
  }
 },
 "nbformat": 4,
 "nbformat_minor": 5
}
